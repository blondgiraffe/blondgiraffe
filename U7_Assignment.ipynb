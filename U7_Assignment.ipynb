{
 "cells": [
  {
   "cell_type": "markdown",
   "id": "ab03d50d",
   "metadata": {},
   "source": [
    "<h1 style=\"color:rgb(0,120,170)\">Hands-on AI II</h1>\n",
    "<h2 style=\"color:rgb(0,120,170)\">Unit 7 &mdash; Introduction to Reinforcement Learning (Assignment)</h2>"
   ]
  },
  {
   "cell_type": "markdown",
   "id": "d5dc8765",
   "metadata": {},
   "source": [
    "<b>Authors:</b> B. Schäfl, S. Lehner, J. Brandstetter<br>\n",
    "<b>Date:</b> 11-06-2021\n",
    "\n",
    "This file is part of the \"Hands-on AI II\" lecture material. The following copyright statement applies to all code within this file.\n",
    "\n",
    "<b>Copyright statement:</b><br>\n",
    "This  material,  no  matter  whether  in  printed  or  electronic  form,  may  be  used  for personal  and non-commercial educational use only.  Any reproduction of this manuscript, no matter whether as a whole or in parts, no matter whether in printed or in electronic form, requires explicit prior acceptance of the authors."
   ]
  },
  {
   "cell_type": "markdown",
   "id": "25077b8c",
   "metadata": {},
   "source": [
    "<h2>Table of contents</h2>\n",
    "<ol>\n",
    "    <a href=\"#exercise-reinforcement-learning-environment\"><li style=\"font-size:large;font-weight:bold\">Dissection of an Environment</li></a>\n",
    "    <ol style=\"margin-bottom:15px\">\n",
    "        <a href=\"#exercise-reinforcement-learning-one\"><li style=\"font-size:medium\">States and actions</li></a>\n",
    "    </ol>\n",
    "    <a href=\"#exercise-reinforcement-learning-random\"><li style=\"font-size:large;font-weight:bold\">Tackling the Environment with Random Exploration</li></a>\n",
    "    <ol style=\"margin-bottom:15px\">\n",
    "        <a href=\"#exercise-reinforcement-learning-two\"><li style=\"font-size:medium\">Implementing random search</li></a>\n",
    "        <a href=\"#exercise-reinforcement-learning-three\"><li style=\"font-size:medium\">The problem with random search</li></a>\n",
    "    </ol>\n",
    "        <a href=\"#exercise-reinforcement-learning-qlearning\"><li style=\"font-size:large;font-weight:bold\">Tackling the Environment with $Q$-Learning</li></a>\n",
    "    <ol style=\"margin-bottom:15px\">\n",
    "        <a href=\"#exercise-reinforcement-learning-four\"><li style=\"font-size:medium\">First approach of learning a $Q$-table</li></a>\n",
    "        <a href=\"#exercise-reinforcement-learning-five\"><li style=\"font-size:medium\">The problem with missing exploration</li></a>\n",
    "        <a href=\"#exercise-reinforcement-learning-six\"><li style=\"font-size:medium\">Evaluate the agent's performance</li></a>\n",
    "        <a href=\"#exercise-reinforcement-learning-seven\"><li style=\"font-size:medium\">The role of randomness in the environment</li></a>\n",
    "    </ol>\n",
    "</ol>"
   ]
  },
  {
   "cell_type": "markdown",
   "id": "875c3686",
   "metadata": {},
   "source": [
    "<h3 style=\"color:rgb(0,120,170)\">How to use this notebook</h3>\n",
    "This notebook is designed to run from start to finish. There are different tasks (displayed in <span style=\"color:rgb(248,138,36)\">orange boxes</span>) which require your contribution (in form of code, plain text, ...). Most/All of the supplied functions are imported from the file <code>u7_utils.py</code> which can be seen and treated as a black box. However, for further understanding, you can look at the implementations of the helper functions. In order to run this notebook, the packages which are imported at the beginning of <code>u7_utils.py</code> need to be installed."
   ]
  },
  {
   "cell_type": "code",
   "execution_count": 1,
   "id": "f23dd8b5",
   "metadata": {},
   "outputs": [
    {
     "data": {
      "text/html": [
       "\n",
       "    <style>\n",
       "        .output_png {\n",
       "            display: table-cell;\n",
       "            text-align: center;\n",
       "            vertical-align: middle;\n",
       "        }\n",
       "        .jp-RenderedImage {\n",
       "            display: table-cell;\n",
       "            text-align: center;\n",
       "            vertical-align: middle;\n",
       "        }\n",
       "    </style>\n",
       "    <p>Setting up notebook ... finished.</p>\n",
       "    "
      ],
      "text/plain": [
       "<IPython.core.display.HTML object>"
      ]
     },
     "execution_count": 1,
     "metadata": {},
     "output_type": "execute_result"
    }
   ],
   "source": [
    "# Import pre-defined utilities specific to this notebook.\n",
    "import u7_utils as u7\n",
    "\n",
    "# Import additional utilities needed in this notebook.\n",
    "import matplotlib.pyplot as plt\n",
    "import numpy as np\n",
    "import pandas as pd\n",
    "import seaborn as sns\n",
    "import sys\n",
    "import time\n",
    "\n",
    "from IPython import display\n",
    "from typing import Any, Dict, Tuple\n",
    "\n",
    "# Setup Jupyter notebook (warning: this may affect all Jupyter notebooks running on the same Jupyter server).\n",
    "u7.setup_jupyter()"
   ]
  },
  {
   "cell_type": "markdown",
   "id": "94175e70",
   "metadata": {},
   "source": [
    "<h3 style=\"color:rgb(0,120,170)\">Module versions</h3>\n",
    "As mentioned in the introductory slides, specific minimum versions of Python itself as well as of used modules is recommended."
   ]
  },
  {
   "cell_type": "code",
   "execution_count": 2,
   "id": "c6fce02d",
   "metadata": {},
   "outputs": [
    {
     "name": "stdout",
     "output_type": "stream",
     "text": [
      "Installed Python version: 3.9 (✓)\n",
      "Installed numpy version: 1.20.2 (✓)\n",
      "Installed pandas version: 1.2.4 (✓)\n",
      "Installed PyTorch version: 1.8.1 (✓)\n",
      "Installed scikit-learn version: 0.24.2 (✓)\n",
      "Installed scipy version: 1.6.3 (✓)\n",
      "Installed matplotlib version: 3.4.2 (✓)\n",
      "Installed seaborn version: 0.11.1 (✓)\n",
      "Installed PIL version: 8.1.2 (✓)\n",
      "Installed rdkit version: 2021.03.1 (✓)\n",
      "Installed gym version: 0.18.3 (✓)\n"
     ]
    }
   ],
   "source": [
    "u7.check_module_versions()"
   ]
  },
  {
   "cell_type": "markdown",
   "id": "c53b7afd",
   "metadata": {},
   "source": [
    "<a name=\"exercise-reinforcement-learning-environment\"></a><h2>Dissection of an Environment</h2>\n",
    "<p>All exercises in this assignment are referring to the <i>FrozenLake-v0</i> environment of <a href=\"https://gym.openai.com\"><i>OpenAI Gym</i></a>. This environment is descibed according to its official <a href=\"https://gym.openai.com/envs/FrozenLake-v0/\">OpenAI Gym website</a> as follows:\n",
    "<center>\n",
    "    <cite>Winter is here. You and your friends were tossing around a frisbee at the park when you made a wild throw that left the frisbee out in the middle of the lake. The water is mostly <span style=\"color:rgb(0,255,0)\">frozen</span>, but there are a few <span style=\"color:rgb(255,0,0)\">holes</span> where the ice has melted. If you step into one of those holes, you'll fall into the freezing water. At this time, there's an international frisbee shortage, so it's absolutely imperative that you navigate across the lake and retrieve the <span style=\"color:rgb(255,0,255)\">disc</span>. However, the ice is slippery, so you won't always move in the direction you intend.</cite>\n",
    "    </center></p>\n",
    "\n",
    "\n",
    "<p>There are <i>four</i> types of surfaces described in this environment:\n",
    "<ul>\n",
    "    <li><code>S</code> $\\rightarrow$ starting point (<span style=\"color:rgb(0,255,0)\"><i>safe</i></span>)</li>\n",
    "    <li><code>F</code> $\\rightarrow$ frozen surface (<span style=\"color:rgb(0,255,0)\"><i>safe</i></span>)</li>\n",
    "    <li><code>H</code> $\\rightarrow$ hole (<span style=\"color:rgb(255,0,0)\"><i>fall to your doom</i></span>)</li>\n",
    "    <li><code>G</code> $\\rightarrow$ goal (<span style=\"color:rgb(255,0,255)\"><i>frisbee location</i></span>)</li>\n",
    "</ul>\n",
    "\n",
    "\n",
    "If not already done, more information on how to <i>install</i> and <i>import</i> the <code>gym</code> module is available in the lecture's notebook.</p>"
   ]
  },
  {
   "cell_type": "markdown",
   "id": "29997c74",
   "metadata": {},
   "source": [
    "<a name=\"exercise-reinforcement-learning-one\"></a><div class=\"alert alert-warning\">\n",
    "    Execute the notebook until here and try to solve the following tasks:\n",
    "    <ul>\n",
    "        <li>Create a new instance of <tt>FrozenLakeEnv</tt> with the seed set to <tt>42</tt> and render the current state in a human-readable way.</li>\n",
    "        <li>Gather and print the amount of different <i>actions</i> as well as <i>states</i> of the <tt>FrozenLakeEnv</tt> instance. Discuss the results.</li>\n",
    "        <li>Display the <i>reward table entry</i> for the current state. Discuss the different elements of the resulting dictionary.</li>\n",
    "    </ul>\n",
    "</div>"
   ]
  },
  {
   "cell_type": "code",
   "execution_count": 3,
   "id": "7fd35192",
   "metadata": {},
   "outputs": [],
   "source": [
    "environment_frozenlake = u7.FrozenLakeEnv()\n",
    "u7.set_environment_seed(environment=environment_frozenlake, seed=42)"
   ]
  },
  {
   "cell_type": "code",
   "execution_count": 4,
   "id": "fb53d7db",
   "metadata": {},
   "outputs": [
    {
     "name": "stdout",
     "output_type": "stream",
     "text": [
      "\n",
      "\u001b[41mS\u001b[0mFFF\n",
      "FHFH\n",
      "FFFH\n",
      "HFFG\n",
      "Current state ID: 0\n"
     ]
    }
   ],
   "source": [
    "environment_frozenlake.render(mode=r'human')\n",
    "current_state_id = environment_frozenlake.s\n",
    "print(f'Current state ID: {current_state_id}')"
   ]
  },
  {
   "cell_type": "code",
   "execution_count": 5,
   "id": "afdc0375",
   "metadata": {},
   "outputs": [
    {
     "name": "stdout",
     "output_type": "stream",
     "text": [
      "The FrozenLake environment comprises <4> actions and <16> states.\n"
     ]
    }
   ],
   "source": [
    "num_actions = environment_frozenlake.action_space.n\n",
    "num_states = environment_frozenlake.observation_space.n\n",
    "print(f'The FrozenLake environment comprises <{num_actions}> actions and <{num_states}> states.')"
   ]
  },
  {
   "cell_type": "markdown",
   "id": "68d61528",
   "metadata": {},
   "source": [
    "<p>The first and na&#xEF;ve approach to solve this task is by simply <i>brute forcing</i> it applying <i>random search</i>. The outline of this approach is the following:\n",
    "<table style=\"text-align:center;vertical-align:middle\">\n",
    "    <tr>\n",
    "        <th style=\"width:75px\">Step</th>\n",
    "        <th>Description</th>\n",
    "    </tr>\n",
    "    <tr>\n",
    "        <td>0</td>\n",
    "        <td>Choose a random <i>action</i> with respect to the <i>current</i> state.</td>\n",
    "    </tr>\n",
    "    <tr>\n",
    "        <td>1</td>\n",
    "        <td>Execute previously chosen <i>action</i> and transition into a <i>new</i> state.</td>\n",
    "    </tr>\n",
    "    <tr>\n",
    "        <td>2</td>\n",
    "        <td>Repeat the previous steps as long as the current episode is still ongoing.</td>\n",
    "    </tr>\n",
    "</table>\n",
    "\n",
    "For such an approach to be at least remotely applicable, the number of possible <i>actions</i> and <i>states</i> is of utter importance. Otherwise, we are lost in the depth of combinatorial explosion. The property <code>n</code> of the <code>action_space</code> and <code>observation_space</code> of the respective environment gives the amount of <i>actions</i> as well as <i>states</i>.</p>"
   ]
  },
  {
   "cell_type": "code",
   "execution_count": 6,
   "id": "a29271d3",
   "metadata": {},
   "outputs": [
    {
     "data": {
      "text/plain": [
       "{0: [(0.3333333333333333, 0, 0.0, False),\n",
       "  (0.3333333333333333, 0, 0.0, False),\n",
       "  (0.3333333333333333, 4, 0.0, False)],\n",
       " 1: [(0.3333333333333333, 0, 0.0, False),\n",
       "  (0.3333333333333333, 4, 0.0, False),\n",
       "  (0.3333333333333333, 1, 0.0, False)],\n",
       " 2: [(0.3333333333333333, 4, 0.0, False),\n",
       "  (0.3333333333333333, 1, 0.0, False),\n",
       "  (0.3333333333333333, 0, 0.0, False)],\n",
       " 3: [(0.3333333333333333, 1, 0.0, False),\n",
       "  (0.3333333333333333, 0, 0.0, False),\n",
       "  (0.3333333333333333, 0, 0.0, False)]}"
      ]
     },
     "execution_count": 6,
     "metadata": {},
     "output_type": "execute_result"
    }
   ],
   "source": [
    "current_state_id = environment_frozenlake.s\n",
    "environment_frozenlake.P[current_state_id]"
   ]
  },
  {
   "cell_type": "markdown",
   "id": "dc34e2cd",
   "metadata": {},
   "source": [
    "<a name=\"exercise-reinforcement-learning-random\"></a><h2>Tackling the Environment with Random Exploration</h2>\n",
    "<p>Previously, we talked about solving this task in a na&#xEF;ve way by simply applying <i>brute force</i>: using <i>random search</i>. In the meantime we analyzed the <i>action</i> as well as the <i>state space</i> and came to the conclusion, that such an approach is more than feasible. To repeat the outline of such an approach:\n",
    "<ul>\n",
    "    <li><code>I</code> $\\rightarrow$ choose a random <i>action</i> with respect to the <i>current</i> state.</li>\n",
    "    <li><code>II</code> $\\rightarrow$ execute previously chosen <i>action</i> and transition into a <i>new</i> state.</li>\n",
    "    <li><code>III</code> $\\rightarrow$ if the episode is finished, but the goal not reached, <i>reset</i> the position of the <i>disc retrieving entity</i>.</li>\n",
    "</ul>\n",
    "\n",
    "This procedure is repeated as long as the task is not solved or a defined maximum of steps is reached, whatever triggers first (<code>IV</code>). Adapt the function <code>apply_random_search</code> as discussed during the lecture. Mark the corresponding sections of the code using <code>I</code>, <code>II</code>, <code>III</code> and <code>IV</code>. Note that our <i>random search</i> is <i>not</i> guaranteed to find  the solution of a task in <i>finite time</i>, hence an upper border on the <i>runtime</i> is often applied as a safety net (in our case the <i>number of allowed steps</i>).</p>"
   ]
  },
  {
   "cell_type": "markdown",
   "id": "9a4b879c",
   "metadata": {},
   "source": [
    "<a name=\"exercise-reinforcement-learning-two\"></a><div class=\"alert alert-warning\">\n",
    "    Execute the notebook until here and try to solve the following tasks:\n",
    "    <ul>\n",
    "        <li>Implement the <i>random search</i> algorithm as outlined above (equivalently to the one discussed during the exercise).</li>\n",
    "        <li>Apply your random search implementation on a freshly seeded <tt>FrozenLakeEnv</tt> instance, with an animation delay of $0.1$.</li>\n",
    "        <li>How many steps are necessary to reach the goal at least once and how often did an involuntary dive happen?</li>\n",
    "    </ul>\n",
    "</div>"
   ]
  },
  {
   "cell_type": "code",
   "execution_count": 7,
   "id": "f53c3834",
   "metadata": {},
   "outputs": [],
   "source": [
    "def apply_random_search(environment: u7.FrozenLakeEnv, animate: bool = False,\n",
    "                        delay: float = 0.01, max_steps: int = 1000) -> Tuple[int, int, Dict[str, Any]]:\n",
    "    \"\"\"\n",
    "    Solve specified environment by applying random search.\n",
    "    \n",
    "    :param environment: the environment on which to apply random search\n",
    "    :param animate: animate the random search process\n",
    "    :param delay: the minimum delay in milliseconds between each rendered frame (ignored if not animated)\n",
    "    :param max_steps: maximum amount of steps to perform\n",
    "    :return: amount of steps performed, involuntary dives and captured frames\n",
    "    \"\"\"\n",
    "    \n",
    "    num_steps, num_penalties, final_reward, captured_frames = 0, 0, 0, []\n",
    "\n",
    "    # <III>: repeat random search procedure as long as the episode is still ongoing.\n",
    "    done = False\n",
    "    while final_reward == 0:\n",
    "\n",
    "\n",
    "        # <I>: choose a random action with respect to the current state.\n",
    "        current_action = environment.action_space.sample()\n",
    "\n",
    "        # <II>: execute previously chosen action and transition into a new state.\n",
    "        current_state, current_reward, done, info = environment.step(current_action)\n",
    "\n",
    "        # Update counter for inflicted penalties.\n",
    "        final_reward += current_reward\n",
    "        if done:\n",
    "            environment.reset()\n",
    "            num_penalties += 1\n",
    "        num_steps += 1 \n",
    "\n",
    "\n",
    "        # Save rendering of current state.\n",
    "        captured_frames.append({\n",
    "            r'frame': environment.render(mode=r'ansi'),\n",
    "            r'state': current_state,\n",
    "            r'action': current_action,\n",
    "            r'reward': current_reward\n",
    "        })\n",
    "        \n",
    "        # Optionally display current state.\n",
    "        if animate:\n",
    "            display.clear_output(wait=True)\n",
    "            print(captured_frames[-1][r'frame'])\n",
    "            print(f'Step No.: {num_steps}'\n",
    "                  f'\\nState ID: {current_state}'\n",
    "                  f'\\nAction ID: {current_action}'\n",
    "                  f'\\nReward: {current_reward}')\n",
    "            time.sleep(delay)\n",
    "        \n",
    "    return num_steps, num_penalties, final_reward, captured_frames"
   ]
  },
  {
   "cell_type": "code",
   "execution_count": 8,
   "id": "98d9ef98",
   "metadata": {},
   "outputs": [
    {
     "name": "stdout",
     "output_type": "stream",
     "text": [
      "\n",
      "\u001b[41mS\u001b[0mFFF\n",
      "FHFH\n",
      "FFFH\n",
      "HFFG\n",
      "\n",
      "Step No.: 260\n",
      "State ID: 15\n",
      "Action ID: 2\n",
      "Reward: 1.0\n"
     ]
    }
   ],
   "source": [
    "u7.set_environment_seed(environment=environment_frozenlake, seed=42)\n",
    "num_steps, num_penalties, final_reward, _ = apply_random_search(\n",
    "    environment=environment_frozenlake,\n",
    "    animate=True,\n",
    "    delay=0.1\n",
    ")\n"
   ]
  },
  {
   "cell_type": "code",
   "execution_count": 9,
   "id": "8eca4597",
   "metadata": {},
   "outputs": [
    {
     "name": "stdout",
     "output_type": "stream",
     "text": [
      "260 steps taken and 33 penalties inflicted during randomly searching the goal, with a final reward of 1.0.\n"
     ]
    }
   ],
   "source": [
    "print(f'{num_steps} steps taken and {num_penalties} penalties inflicted'\n",
    "f' during randomly searching the goal, with a final reward of {final_reward}.')"
   ]
  },
  {
   "cell_type": "markdown",
   "id": "18ea592d",
   "metadata": {},
   "source": [
    "<p>To drill down on the drawbacks of plain <i>random search</i>, we are designing the following experimental setup (hint: it is actually the same experimental setup as already discussed during the exercise, so you might orient yourself on the implementation presented during class):\n",
    "<ul>\n",
    "    <li>Repeat the previous <i>random search</i> procedure a specified amount of times.</li>\n",
    "    <li>Aggregate the results of each run for later analysis.</li>\n",
    "    <li>Visualise the aggegrated results using <i>box-</i> and <i>swarm-plots</i>.</li>\n",
    "</ul>\n",
    "Once again, we are setting the <i>random seed</i>, but take care of setting it <i>outside</i> the loop, otherwise the same result is reported with each iteration (and an aggregation of the results would not give us any more insights).</p>"
   ]
  },
  {
   "cell_type": "markdown",
   "id": "d27804fb",
   "metadata": {},
   "source": [
    "<a name=\"exercise-reinforcement-learning-three\"></a><div class=\"alert alert-warning\">\n",
    "    Execute the notebook until here and try to solve the following tasks:\n",
    "    <ul>\n",
    "        <li>Conduct a <i>random search experiment</i> as outlined above, using $100$ repetitions and the random seed set to $42$.</li>\n",
    "        <li>Interpret the visualization (e.g. the span of the boxes) and keep the scaling of the <i>x-axis</i> in mind.</li>\n",
    "        <li>In comparison with the <tt>Taxi-v3</tt> environment, what might be the problem with <tt>FrozenLakeEnv</tt> w.r.t. random exploration?</li>\n",
    "    </ul>\n",
    "</div>"
   ]
  },
  {
   "cell_type": "code",
   "execution_count": 10,
   "id": "578db620",
   "metadata": {},
   "outputs": [],
   "source": [
    "u7.set_environment_seed(environment=environment_frozenlake, seed=42)\n",
    "num_steps_total, num_penalties_total, final_reward_total = [], [], []\n",
    "num_repetitions = 100\n",
    "\n",
    "# Collect information over multiple repetitions.\n",
    "for repetition in range(num_repetitions):\n",
    "    environment_frozenlake.reset()\n",
    "    num_steps, num_penalties, final_reward, _ = apply_random_search(environment=environment_frozenlake)\n",
    "    num_steps_total.append(num_steps)\n",
    "    num_penalties_total.append(num_penalties)\n",
    "    final_reward_total.append(final_reward)\n",
    "\n",
    "# Combine collected information to a data frame for further downstream analysis.\n",
    "collected_experiment_info = pd.DataFrame(zip(\n",
    "    num_steps_total, num_penalties_total, final_reward_total\n",
    "), columns=(r'Steps performed', r'Penalties inflicted', r'Final reward'))"
   ]
  },
  {
   "cell_type": "code",
   "execution_count": 11,
   "id": "e9d81677",
   "metadata": {},
   "outputs": [
    {
     "name": "stderr",
     "output_type": "stream",
     "text": [
      "C:\\Users\\stank\\anaconda3\\envs\\my-rdkit-env\\lib\\site-packages\\seaborn\\categorical.py:1296: UserWarning: 81.0% of the points cannot be placed; you may want to decrease the size of the markers or use stripplot.\n",
      "  warnings.warn(msg, UserWarning)\n"
     ]
    },
    {
     "data": {
      "image/png": "[encoded data removed]",
      "text/plain": [
       "<Figure size 1440x504 with 1 Axes>"
      ]
     },
     "metadata": {},
     "output_type": "display_data"
    }
   ],
   "source": [
    "# Set default plotting style.\n",
    "sns.set()\n",
    "\n",
    "# Visualize aggregated results of the random search procedure.\n",
    "fig, ax = plt.subplots(nrows=1, ncols=1, squeeze=False, figsize=(20, 7))\n",
    "ax[0, 0].set_xscale(r'symlog')\n",
    "_ = sns.boxplot(data=collected_experiment_info, ax=ax[0, 0], orient=r'h')\n",
    "_ = sns.swarmplot(data=collected_experiment_info, ax=ax[0, 0], color=r'0.3', orient=r'h')"
   ]
  },
  {
   "cell_type": "code",
   "execution_count": 12,
   "id": "0fafd28d",
   "metadata": {},
   "outputs": [],
   "source": [
    "#There are no negative rewards in lake environment, 1 is only returned when we reach the goal\n",
    "#Therefore agent may not learn, as it repeats the same action over and over\n",
    "#These differ taxi environment from lake environment"
   ]
  },
  {
   "cell_type": "markdown",
   "id": "aa5f5535",
   "metadata": {},
   "source": [
    "<a name=\"exercise-reinforcement-learning-qlearning\"></a><h2>Tackling the Environment with $Q$-Learning</h2>\n",
    "<p>In a simplified version of $Q$-learning, the <b>$\\boldsymbol{Q}$-value</b>\n",
    "\\begin{equation}\n",
    "    Q(s,a)\n",
    "\\end{equation}</p>\n",
    "\n",
    "<p>is the expected future reward of being in state $s$ and taking action $a$. Intuitively, if the the $Q$-values are learned correctly, a good policy would be to take the action which maximizes the expected future reward. This is what $Q$-learning is doing. $Q$-learning lets the agent use the environment's rewards to learn, over time, the best action to take in a given state. $Q$-values are initialized to an arbitrary value, and as the agent exposes itself to the environment and receives different rewards by executing different actions, the $Q$-values are updated using the equation:\n",
    "\\begin{equation}\n",
    "    Q(s_t,a_t) \\leftarrow (1 - \\alpha) \\cdot Q(s_t,a_t) + \\alpha \\cdot \\left( r + \\max_{a_{t+1}} Q(s_{t+1}, a_{t+1})\\right)\n",
    "\\end{equation}</p>\n",
    "\n",
    "<p>We are assigning $\\leftarrow$, or updating, the $Q$-value of the agent's current state and action, denoted as $Q(s_t,a_t)$ with $\\alpha$ as the learning rate, i.e the extent to which our $Q$-values are being updated in every iteration.</p>\n",
    "\n",
    "<p>The <b>$\\boldsymbol{Q}$-table</b> is a matrix where we have a row for every state and a column for every action – $500$ and $6$, respectively, when referring to the <i>Taxi-v3</i> example, as discussed during class. It's first initialized to $0$, and then values are updated after training.</p>\n",
    "\n",
    "<p>Previously, we talked about solving this task in a na&#xEF;ve way by simply applying <i>brute force</i>: using <i>random search</i>. This time we want to apply a more sophisticated algorithm – $Q$-learning:\n",
    "<ul>\n",
    "    <li><code>I</code> $\\rightarrow$ Choose action $a_t$.\n",
    "    <li><code>II</code> $\\rightarrow$ Go from state $s_t$ to state $s_{t+1}$ by taking action $a_{t}$.\n",
    "    <li><code>III</code> $\\rightarrow$ For all possible $Q$-values from the state $s_{t+1}$, select the highest.\n",
    "    <li><code>IV</code> $\\rightarrow$ Update $Q$-table values using the equation from above.\n",
    "    <li><code>V</code> $\\rightarrow$ Set the next state as the current state.\n",
    "</ul>\n",
    "\n",
    "This procedure is repeated for as many episodes as specified (<code>VI</code>).</p>"
   ]
  },
  {
   "cell_type": "markdown",
   "id": "a98f9406",
   "metadata": {},
   "source": [
    "<a name=\"exercise-reinforcement-learning-four\"></a><div class=\"alert alert-warning\">\n",
    "    Execute the notebook until here and try to solve the following tasks:\n",
    "    <ul>\n",
    "        <li>Implement <i>$Q$-learning</i> as outlined above (equivalently to the one discussed during the exercise).</li>\n",
    "        <li>Apply $Q$-learning on a freshly seeded <tt>FrozenLakeEnv</tt> instance for $10^4$ episodes, with $10^3$ delay steps and $\\alpha{}=0.1$.</li>\n",
    "        <li>Interpret the visualization of the resulting $Q$-table. What do you observe?</li>\n",
    "    </ul>\n",
    "</div>"
   ]
  },
  {
   "cell_type": "markdown",
   "id": "9286d12c",
   "metadata": {},
   "source": [
    "<div class=\"alert alert-warning\">\n",
    "    The following code snippet is taken from the accompanying exercise notebook. You do not need to modify it for this assignment.\n",
    "</div>"
   ]
  },
  {
   "cell_type": "code",
   "execution_count": 13,
   "id": "f1de3120",
   "metadata": {},
   "outputs": [],
   "source": [
    "def visualize_q_table(q_table: np.ndarray, title: str = r'') -> None:\n",
    "    \"\"\"\n",
    "    Visualize Q-table using a heatmap plot.\n",
    "    \n",
    "    :param q_table: Q-table to visualize\n",
    "    :return: None\n",
    "    \"\"\"\n",
    "    sns.set()\n",
    "    fig, ax = plt.subplots(nrows=1, ncols=1, squeeze=False, figsize=(20, 7))\n",
    "    _ = sns.heatmap(data=q_table, ax=ax[0, 0])\n",
    "    _ = ax[0, 0].set(xlabel=r'Action', ylabel=r'State', title=title)\n",
    "    display.clear_output(wait=True)\n",
    "    display.display(fig)\n",
    "    plt.close(fig=fig)\n",
    "\n",
    "\n",
    "def apply_q_learning(environment: u7.FrozenLakeEnv, num_episodes: int = 1000, alpha: float = 0.1,\n",
    "                     animate: bool = False, delay_steps: int = 100) -> np.ndarray:\n",
    "    \"\"\"\n",
    "    Solve specified environment by applying Q-learning.\n",
    "    \n",
    "    :param environment: the environment on which to apply Q-learning\n",
    "    :param num_episodes: the total amount of episodes used to adapt the Q-table\n",
    "    :param alpha: the learning rate to be applied by Q-learning\n",
    "    :param animate: animate the Q-learning process\n",
    "    :param delay_steps: the steps between each Q-table visualization (ignored if not animated)\n",
    "    \"\"\"\n",
    "    \n",
    "    q_table = np.zeros(shape=(environment.observation_space.n, environment.action_space.n))\n",
    "    \n",
    "    # <VI>: repeat Q-learning as long as the total amount of episodes is not yet reached.\n",
    "    for episode in range(num_episodes):\n",
    "        state = environment.reset()\n",
    "        \n",
    "        done = False\n",
    "        while not done:\n",
    "            \n",
    "            # <I>: choose next action according to current Q-table.\n",
    "            action = np.argmax(q_table[state]) \n",
    "            \n",
    "            # <II>: go from the current state to the next by applying chosen action.\n",
    "            next_state, reward, done, info = environment.step(action)\n",
    "            \n",
    "            # <III>: from all possible Q-values w.r.t. the new state, select the highest.\n",
    "            next_max = np.max(q_table[next_state])\n",
    "            \n",
    "            # <IV>: update the Q-table accordingly.\n",
    "            old_value = q_table[state, action]\n",
    "            new_value = (1 - alpha) * old_value + alpha * (reward + next_max)\n",
    "            q_table[state, action] = new_value\n",
    "\n",
    "            # <V>: update the next step with the current one.\n",
    "            state = next_state\n",
    "        \n",
    "        # Optionally visualize the current Q-table.\n",
    "        if animate and any(((episode + 1) % delay_steps == 0, (episode + 1) == num_episodes)):\n",
    "            visualize_q_table(q_table=q_table, title=f'Episode {episode + 1}')\n",
    "    \n",
    "    return q_table"
   ]
  },
  {
   "cell_type": "code",
   "execution_count": 14,
   "id": "6c70b31e",
   "metadata": {},
   "outputs": [
    {
     "data": {
      "image/png": "[encoded data removed]",
      "text/plain": [
       "<Figure size 1440x504 with 2 Axes>"
      ]
     },
     "metadata": {},
     "output_type": "display_data"
    }
   ],
   "source": [
    "u7.set_environment_seed(environment=environment_frozenlake, seed=42)\n",
    "q_table = apply_q_learning(\n",
    "    environment=environment_frozenlake,\n",
    "    num_episodes=10000,\n",
    "    alpha=0.1,\n",
    "    animate=True,\n",
    "    delay_steps=1000\n",
    ")"
   ]
  },
  {
   "cell_type": "code",
   "execution_count": 15,
   "id": "d11c5a5e",
   "metadata": {},
   "outputs": [],
   "source": [
    "# We can see that no learning was done with Q-learning -> agent did not learn"
   ]
  },
  {
   "cell_type": "markdown",
   "id": "a4e37cbb",
   "metadata": {},
   "source": [
    "<p>Very likely the $Q$-table of the previous experiment looked a little bit odd. Try to add exploration to your algorithm by adapting your $Q$-learning implementation:\n",
    "    <ul>\n",
    "        <li><code>I</code> $\\rightarrow$ Throw a random uniform number between $0$ and $1$. \n",
    "        <li><code>II</code> $\\rightarrow$ If the number is smaller than $0.1$, sample a random action.\n",
    "        <li><code>III</code> $\\rightarrow$ Otherwise, choose your action as usual.\n",
    "    </ul>\n",
    "</p>"
   ]
  },
  {
   "cell_type": "markdown",
   "id": "20dbaac9",
   "metadata": {},
   "source": [
    "<a name=\"exercise-reinforcement-learning-five\"></a><div class=\"alert alert-warning\">\n",
    "    Execute the notebook until here and try to solve the following tasks:\n",
    "    <ul>\n",
    "        <li>Modify the <i>$Q$-learning</i> implementation from the previous tasks as outlined above (mark the corresponding code sections).</li>\n",
    "        <li>Apply $Q$-learning on a freshly seeded <tt>FrozenLakeEnv</tt> instance for $10^4$ episodes, with $10^3$ delay steps and $\\alpha{}=0.1$.</li>\n",
    "        <li>Interpret the visualization of the resulting $Q$-table. What do you observe (compare with the previous visualization)?</li>\n",
    "    </ul>\n",
    "</div>"
   ]
  },
  {
   "cell_type": "code",
   "execution_count": 16,
   "id": "ad90086b",
   "metadata": {},
   "outputs": [],
   "source": [
    "def apply_q_learning(environment: u7.FrozenLakeEnv, num_episodes: int = 1000, alpha: float = 0.1,\n",
    "                     animate: bool = False, delay_steps: int = 100) -> np.ndarray:\n",
    "    \"\"\"\n",
    "    Solve specified environment by applying Q-learning.\n",
    "    \n",
    "    :param environment: the environment on which to apply Q-learning\n",
    "    :param num_episodes: the total amount of episodes used to adapt the Q-table\n",
    "    :param alpha: the learning rate to be applied by Q-learning\n",
    "    :param animate: animate the Q-learning process\n",
    "    :param delay_steps: the steps between each Q-table visualization (ignored if not animated)\n",
    "    :return: adapted Q-table\n",
    "    \"\"\"\n",
    "    \n",
    "    q_table = np.zeros(shape=(environment.observation_space.n, environment.action_space.n))\n",
    "\n",
    "    # <VI>: repeat Q-learning as long as the total amount of episodes is not yet reached.\n",
    "    for episode in range(num_episodes):\n",
    "        state = environment.reset()\n",
    "        \n",
    "        done = False\n",
    "        while not done:\n",
    "\n",
    "            # <I>: choose next action according to current Q-table.\n",
    "        \n",
    "            # Throw a random uniform number between 0 and 1.\n",
    "            action = np.random.uniform(0,1)\n",
    "        \n",
    "            # If the number is smaller than  0.1.\n",
    "            if action < 0.1:\n",
    "                # Sample a random action.\n",
    "                action = environment.action_space.sample() \n",
    "            else:\n",
    "                # Otherwise, choose your action as usual.\n",
    "                action = np.argmax(q_table[state]) \n",
    "        \n",
    "            # <II>: go from the current state to the next by applying chosen action.\n",
    "            next_state, reward, done, info = environment.step(action)\n",
    "        \n",
    "            # <III>: from all possible Q-values w.r.t. the new state, select the highest.\n",
    "            next_max = np.max(q_table[next_state])\n",
    "\n",
    "            # <IV>: update the Q-table accordingly.\n",
    "            old_value = q_table[state, action]\n",
    "            new_value = (1 - alpha) * old_value + alpha * (reward + next_max)\n",
    "            q_table[state, action] = new_value\n",
    "        \n",
    "            # <V>: update the next step with the current one.\n",
    "            state = next_state\n",
    "\n",
    "        # Optionally visualize the current Q-table.\n",
    "        if animate and any(((episode + 1) % delay_steps == 0, (episode + 1) == num_episodes)):\n",
    "            visualize_q_table(q_table=q_table, title=f'Episode {episode + 1}')\n",
    "    \n",
    "    return q_table"
   ]
  },
  {
   "cell_type": "code",
   "execution_count": 17,
   "id": "15299fac",
   "metadata": {},
   "outputs": [
    {
     "data": {
      "image/png": "[encoded data removed]",
      "text/plain": [
       "<Figure size 1440x504 with 2 Axes>"
      ]
     },
     "metadata": {},
     "output_type": "display_data"
    }
   ],
   "source": [
    "u7.set_environment_seed(environment=environment_frozenlake, seed=42)\n",
    "q_table = apply_q_learning(\n",
    "    environment=environment_frozenlake,\n",
    "    num_episodes=10000,\n",
    "    alpha=0.1,\n",
    "    animate=True,\n",
    "    delay_steps=1000\n",
    ")"
   ]
  },
  {
   "cell_type": "code",
   "execution_count": 18,
   "id": "b6370ab3",
   "metadata": {},
   "outputs": [],
   "source": [
    "#Under these new conditions agent performs better and reaches better result. The q_table is being updated during trainning\n",
    "#thanks to the exploration we added.\n",
    "#In this set up agent does not take alwazs the same action"
   ]
  },
  {
   "cell_type": "markdown",
   "id": "34724af1",
   "metadata": {},
   "source": [
    "<a name=\"exercise-reinforcement-learning-six\"></a><div class=\"alert alert-warning\">\n",
    "    Execute the notebook until here and try to solve the following tasks:\n",
    "    <ul>\n",
    "        <li>Implement a function for applying a pre-trained $Q$-table on a <tt>FrozenLakeEnv</tt> instance (like discussed during class).</li>\n",
    "        <li>Conduct a $Q$-table guided search on a freshly seeded <tt>FrozenLakeEnv</tt> instance, with an animation delay of $0.1$.</li>\n",
    "        <li>How many steps are necessary to reach the goal at least once and how often did an involuntary dive happen?</li>\n",
    "    </ul>\n",
    "</div>"
   ]
  },
  {
   "cell_type": "code",
   "execution_count": 19,
   "id": "b4e143a2",
   "metadata": {},
   "outputs": [],
   "source": [
    "def apply_q_table(environment: u7.FrozenLakeEnv, q_table: np.ndarray, animate: bool = False,\n",
    "                  delay: float = 0.01, max_steps: int = 1000) -> Tuple[int, int, Dict[str, Any]]:\n",
    "    \"\"\"\n",
    "    Solve specified environment by applying specified Q-table.\n",
    "    \n",
    "    :param environment: the environment on which to apply Q-table guided search\n",
    "    :param q_table: the Q-table used during Q-table guided search\n",
    "    :param animate: animate the Q-table guided search process\n",
    "    :param delay: the minimum delay in milliseconds between each rendered frame (ignored if not animated)\n",
    "    :param max_steps: maximum amount of steps to perform\n",
    "    :return: amount of steps performed, involuntary dives and captured frames\n",
    "    \"\"\"\n",
    "    \n",
    "    num_steps, num_penalties, final_reward, captured_frames = 0, 0, 0, []\n",
    "\n",
    "    # <III>: repeat Q-table guided search procedure as long as the episode is still ongoing.\n",
    "    done = False\n",
    "    while final_reward == 0:\n",
    "\n",
    "        # <I>: choose action according to the Q-table with respect to the current state.\n",
    "        current_action = np.argmax(q_table[environment.s])\n",
    "\n",
    "        # <II>: execute previously chosen action and transition into a new state.\n",
    "        current_state, current_reward, done, info = environment.step(current_action)\n",
    "\n",
    "        # Update counter for inflicted penalties.\n",
    "        final_reward += current_reward\n",
    "        if done:\n",
    "            environment.reset()\n",
    "            num_penalties += 1\n",
    "        num_steps += 1 \n",
    "\n",
    "\n",
    "        # Save rendering of current state.\n",
    "        captured_frames.append({\n",
    "            r'frame': environment.render(mode=r'ansi'),\n",
    "            r'state': current_state,\n",
    "            r'action': current_action,\n",
    "            r'reward': current_reward\n",
    "        })\n",
    "        \n",
    "        # Optionally display current state.\n",
    "        if animate:\n",
    "            display.clear_output(wait=True)\n",
    "            print(captured_frames[-1][r'frame'])\n",
    "            print(f'Step No.: {num_steps}'\n",
    "                  f'\\nState ID: {current_state}'\n",
    "                  f'\\nAction ID: {current_action}'\n",
    "                  f'\\nReward: {current_reward}')\n",
    "            time.sleep(delay)\n",
    "        \n",
    "    return num_steps, num_penalties, final_reward, captured_frames"
   ]
  },
  {
   "cell_type": "code",
   "execution_count": 20,
   "id": "7905ab8f",
   "metadata": {},
   "outputs": [
    {
     "name": "stdout",
     "output_type": "stream",
     "text": [
      "\n",
      "\u001b[41mS\u001b[0mFFF\n",
      "FHFH\n",
      "FFFH\n",
      "HFFG\n",
      "\n",
      "Step No.: 90\n",
      "State ID: 15\n",
      "Action ID: 1\n",
      "Reward: 1.0\n"
     ]
    }
   ],
   "source": [
    "u7.set_environment_seed(environment=environment_frozenlake, seed=42)\n",
    "num_steps, num_penalties, final_reward, _ = apply_q_table(\n",
    "    environment=environment_frozenlake,\n",
    "    q_table=q_table,\n",
    "    animate=True,\n",
    "    delay=0.1\n",
    ")"
   ]
  },
  {
   "cell_type": "code",
   "execution_count": 21,
   "id": "b8602383",
   "metadata": {},
   "outputs": [
    {
     "name": "stdout",
     "output_type": "stream",
     "text": [
      "90 steps taken and 1 penalties inflicted during searching the goal guided by a Q-table, with a final reward of 1.0.\n"
     ]
    }
   ],
   "source": [
    "print(f'{num_steps} steps taken and {num_penalties} penalties inflicted'\n",
    "      f' during searching the goal guided by a Q-table, with a final reward of {final_reward}.')"
   ]
  },
  {
   "cell_type": "markdown",
   "id": "a94cf2b6",
   "metadata": {},
   "source": [
    "<a name=\"exercise-reinforcement-learning-seven\"></a><div class=\"alert alert-warning\">\n",
    "    Execute the notebook until here and try to solve the following tasks:\n",
    "    <ul>\n",
    "        <li>Conduct a <i>$Q$-table guided search experiment</i> as outlined previously, using $100$ repetitions and the random seed set to $42$.</li>\n",
    "        <li>Interpret the visualization (e.g. the span of the boxes) and keep the scaling of the <i>x-axis</i> in mind.</li>\n",
    "        <li>In comparison with the <i>random search</i> experiment, how does the $Q$-table guided search perform? Discuss the results.</li>\n",
    "    </ul>\n",
    "</div>"
   ]
  },
  {
   "cell_type": "code",
   "execution_count": 22,
   "id": "9b7e323c",
   "metadata": {},
   "outputs": [],
   "source": [
    "u7.set_environment_seed(environment=environment_frozenlake, seed=42)\n",
    "num_steps_total, num_penalties_total, final_reward_total = [], [], []\n",
    "num_repetitions = 100\n",
    "\n",
    "# Collect information over multiple repetitions.\n",
    "for repetition in range(num_repetitions):\n",
    "    environment_frozenlake.reset()\n",
    "    num_steps, num_penalties, final_reward, _ = apply_q_table(environment=environment_frozenlake, q_table=q_table)\n",
    "    num_steps_total.append(num_steps)\n",
    "    num_penalties_total.append(num_penalties)\n",
    "    final_reward_total.append(final_reward)\n",
    "\n",
    "# Combine collected information to a data frame for further downstream analysis.\n",
    "collected_experiment_info = pd.DataFrame(zip(\n",
    "    num_steps_total, num_penalties_total, final_reward_total\n",
    "), columns=(r'Steps performed', r'Penalties inflicted', r'Final reward'))"
   ]
  },
  {
   "cell_type": "code",
   "execution_count": 23,
   "id": "9a21766c",
   "metadata": {},
   "outputs": [
    {
     "name": "stderr",
     "output_type": "stream",
     "text": [
      "C:\\Users\\stank\\anaconda3\\envs\\my-rdkit-env\\lib\\site-packages\\seaborn\\categorical.py:1296: UserWarning: 66.0% of the points cannot be placed; you may want to decrease the size of the markers or use stripplot.\n",
      "  warnings.warn(msg, UserWarning)\n",
      "C:\\Users\\stank\\anaconda3\\envs\\my-rdkit-env\\lib\\site-packages\\seaborn\\categorical.py:1296: UserWarning: 81.0% of the points cannot be placed; you may want to decrease the size of the markers or use stripplot.\n",
      "  warnings.warn(msg, UserWarning)\n"
     ]
    },
    {
     "data": {
      "image/png": "[encoded data removed]",
      "text/plain": [
       "<Figure size 1440x504 with 1 Axes>"
      ]
     },
     "metadata": {},
     "output_type": "display_data"
    }
   ],
   "source": [
    "# Set default plotting style.\n",
    "sns.set()\n",
    "\n",
    "# Visualize aggregated results of the Q-table guided search procedure.\n",
    "fig, ax = plt.subplots(nrows=1, ncols=1, squeeze=False, figsize=(20, 7))\n",
    "_ = sns.boxplot(data=collected_experiment_info, ax=ax[0, 0], orient=r'h')\n",
    "_ = sns.swarmplot(data=collected_experiment_info, ax=ax[0, 0], color=r'0.3', orient=r'h')"
   ]
  },
  {
   "cell_type": "code",
   "execution_count": 23,
   "id": "ffe69967",
   "metadata": {},
   "outputs": [],
   "source": [
    "# The Q -table guided search is much faster than random search experiment"
   ]
  }
 ],
 "metadata": {
  "kernelspec": {
   "display_name": "Python 3",
   "language": "python",
   "name": "python3"
  },
  "language_info": {
   "codemirror_mode": {
    "name": "ipython",
    "version": 3
   },
   "file_extension": ".py",
   "mimetype": "text/x-python",
   "name": "python",
   "nbconvert_exporter": "python",
   "pygments_lexer": "ipython3",
   "version": "3.9.2"
  }
 },
 "nbformat": 4,
 "nbformat_minor": 5
}
